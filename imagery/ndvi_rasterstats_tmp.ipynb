{
 "cells": [
  {
   "cell_type": "code",
   "execution_count": 1,
   "metadata": {},
   "outputs": [],
   "source": [
    "%load_ext memory_profiler\n",
    "\n",
    "import numpy\n",
    "import xarray, rioxarray\n",
    "import rasterstats\n",
    "import pandas, geopandas\n",
    "import fsspec\n",
    "import rasterio, rasterio.mask\n",
    "from shapely.geometry import box"
   ]
  },
  {
   "cell_type": "code",
   "execution_count": 2,
   "metadata": {},
   "outputs": [],
   "source": [
    "mosaic_path = \"../../data/ghs_composite_s2/GHS-composite-S2.vrt\"\n",
    "tst_path = \"../../data/tessellation/tess_0.pq\""
   ]
  },
  {
   "cell_type": "code",
   "execution_count": 3,
   "metadata": {},
   "outputs": [],
   "source": [
    "def ndvi_for_chunk(chunk_path, r_path):\n",
    "    # Read vectors\n",
    "    with fsspec.open(chunk_path) as p:\n",
    "        chunk = geopandas.read_parquet(p,\n",
    "                                       columns=[\"hindex\", \"tessellation\"]\n",
    "                                      )\n",
    "    # Calculate NDVI\n",
    "    with rasterio.open(mosaic_path) as src:\n",
    "        img, transform = rasterio.mask.mask(src, \n",
    "                                            [box(*chunk.total_bounds)],\n",
    "                                            crop=True\n",
    "                                           )\n",
    "        meta = src.meta\n",
    "    ndvi = (img[3] - img[0]) / (img[3] + img[0])\n",
    "    ndvi[numpy.where(img[0] == meta[\"nodata\"])] = numpy.nan\n",
    "    # Transfer NDVI to vector\n",
    "    stats = rasterstats.zonal_stats(chunk,\n",
    "                                    ndvi,\n",
    "                                    affine=transform\n",
    "                                   )\n",
    "    return pandas.DataFrame(stats, index=chunk[\"hindex\"])"
   ]
  },
  {
   "cell_type": "code",
   "execution_count": 4,
   "metadata": {},
   "outputs": [
    {
     "name": "stderr",
     "output_type": "stream",
     "text": [
      "/opt/conda/lib/python3.7/site-packages/ipykernel_launcher.py:14: RuntimeWarning: invalid value encountered in true_divide\n",
      "  \n",
      "/opt/conda/lib/python3.7/site-packages/rasterstats/io.py:301: UserWarning: Setting nodata to -999; specify nodata explicitly\n",
      "  warnings.warn(\"Setting nodata to -999; specify nodata explicitly\")\n"
     ]
    },
    {
     "name": "stdout",
     "output_type": "stream",
     "text": [
      "peak memory: 7651.40 MiB, increment: 7457.71 MiB\n"
     ]
    }
   ],
   "source": [
    "%%memit\n",
    "st = ndvi_for_chunk(\"../../data/tessellation/tess_83.pq\", mosaic_path)"
   ]
  },
  {
   "cell_type": "markdown",
   "metadata": {},
   "source": [
    "To do:\n",
    "\n",
    "- Read window w/ rasterio and calculate ndvi inside the pod's task\n",
    "- Deal with no data cells\n",
    "- Parallelise in Dask"
   ]
  }
 ],
 "metadata": {
  "kernelspec": {
   "display_name": "Python 3",
   "language": "python",
   "name": "python3"
  },
  "language_info": {
   "codemirror_mode": {
    "name": "ipython",
    "version": 3
   },
   "file_extension": ".py",
   "mimetype": "text/x-python",
   "name": "python",
   "nbconvert_exporter": "python",
   "pygments_lexer": "ipython3",
   "version": "3.7.8"
  }
 },
 "nbformat": 4,
 "nbformat_minor": 4
}
